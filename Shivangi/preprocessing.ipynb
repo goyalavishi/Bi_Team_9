{
 "cells": [
  {
   "cell_type": "code",
   "execution_count": null,
   "metadata": {},
   "outputs": [
    {
     "name": "stdout",
     "output_type": "stream",
     "text": [
      "showing info https://raw.githubusercontent.com/nltk/nltk_data/gh-pages/index.xml\n"
     ]
    }
   ],
   "source": [
    "import nltk\n",
    "nltk.download()\n",
    "\n",
    "import pandas as pd\n",
    "import string\n",
    "\n",
    "data = pd.read_csv(\"Fake.csv\")\n",
    "\n",
    "#lower case\n",
    "data['title']=data['title'].str.lower()\n",
    "data['text']=data['text'].str.lower()\n",
    "data['subject']=data['subject'].str.lower()\n",
    "data['date']=data['date'].str.lower()\n",
    "\n",
    "\n",
    "#removing punctuations\n",
    "exclude = set(string.punctuation)\n",
    "def remove_punctuation(x):\n",
    "    try:\n",
    "        x = ''.join(ch for ch in x if ch not in exclude)\n",
    "    except:\n",
    "        pass\n",
    "    return x\n",
    "data.title= data.title.apply(remove_punctuation)\n",
    "data.text = data.text.apply(remove_punctuation)\n",
    "data.subject=data.subject.apply(remove_punctuation)\n",
    "data.date= data.date.apply(remove_punctuation)\n",
    "\n",
    "\n",
    "\n",
    "#tokenisation\n",
    "def identify_tokens(datacol):\n",
    "    \n",
    "    tokens = nltk.word_tokenize(datacol)\n",
    "    # taken only words (not punctuation)\n",
    "    token_words = [w for w in tokens if w.isalpha()]\n",
    "    return token_words\n",
    "\n",
    "data.title = data.title.apply(identify_tokens)\n",
    "data.text = data.text.apply(identify_tokens)\n",
    "data.subject=data.subject.apply(identify_tokens)\n",
    "data.date= data.date.apply(identify_tokens)\n",
    "\n",
    "\n",
    "\n",
    "#emotions algorithm\n",
    "# NLP Emotion Algorithm   \n",
    "# 1) Check if the word in the final word list is also present in emotion.txt\n",
    "#  - open the emotion file\n",
    "#  - Loop through each line and clear it\n",
    "#  - Extract the word and emotion using split\n",
    "# 2) If word is present -> Add the emotion to emotion_list\n",
    "# 3) Finally count each emotion in the emotion list\n",
    "\n",
    "emotion_list = []\n",
    "with open('emotions.txt', 'r') as file:\n",
    "    for line in file:\n",
    "        clear_line = line.replace(\"\\n\", '').replace(\",\", '').replace(\"'\", '').strip()\n",
    "        word, emotion = clear_line.split(':')\n",
    "        \n",
    "        if word in data['title']:\n",
    "            print(word)\n",
    "            emotion_list.append(emotion)\n",
    "\n",
    "print(\"emotion list\" , emotion_list)\n",
    "\n",
    "\n",
    "print(data)   \n",
    "\n",
    "\n",
    "\n",
    "\n",
    "\n",
    "\n"
   ]
  },
  {
   "cell_type": "code",
   "execution_count": null,
   "metadata": {},
   "outputs": [],
   "source": []
  },
  {
   "cell_type": "code",
   "execution_count": null,
   "metadata": {},
   "outputs": [],
   "source": []
  }
 ],
 "metadata": {
  "kernelspec": {
   "display_name": "Python 3",
   "language": "python",
   "name": "python3"
  },
  "language_info": {
   "codemirror_mode": {
    "name": "ipython",
    "version": 3
   },
   "file_extension": ".py",
   "mimetype": "text/x-python",
   "name": "python",
   "nbconvert_exporter": "python",
   "pygments_lexer": "ipython3",
   "version": "3.7.4"
  }
 },
 "nbformat": 4,
 "nbformat_minor": 2
}
