{
 "cells": [
  {
   "cell_type": "code",
   "execution_count": 12,
   "metadata": {},
   "outputs": [],
   "source": [
    "import numpy as np \n",
    "import pandas as pd\n",
    "from sklearn.feature_extraction.text import CountVectorizer\n",
    "from sklearn.svm import SVC\n",
    "from sklearn.naive_bayes import MultinomialNB\n",
    "from sklearn.ensemble import RandomForestClassifier\n",
    "from sklearn.model_selection import train_test_split\n",
    "from sklearn.naive_bayes import GaussianNB\n",
    "\n",
    "#from xgboost import XGBClassifier\n",
    "#from nltk import word_tokenize          \n",
    "#from nltk.stem import WordNetLemmatizer \n",
    "    \n",
    "real , fake = pd.read_csv('/home/avishi/Documents/Fake-and-Real-News-Predictor/Datasets/True.csv'), pd.read_csv('/home/avishi/Documents/Fake-and-Real-News-Predictor/Datasets/Fake.csv')\n",
    "real,fake = real[['title','text']], fake[['title','text']]\n",
    "real['result'], fake['result'] = 1 , 0"
   ]
  },
  {
   "cell_type": "code",
   "execution_count": 4,
   "metadata": {},
   "outputs": [
    {
     "data": {
      "text/html": [
       "<div>\n",
       "<style scoped>\n",
       "    .dataframe tbody tr th:only-of-type {\n",
       "        vertical-align: middle;\n",
       "    }\n",
       "\n",
       "    .dataframe tbody tr th {\n",
       "        vertical-align: top;\n",
       "    }\n",
       "\n",
       "    .dataframe thead th {\n",
       "        text-align: right;\n",
       "    }\n",
       "</style>\n",
       "<table border=\"1\" class=\"dataframe\">\n",
       "  <thead>\n",
       "    <tr style=\"text-align: right;\">\n",
       "      <th></th>\n",
       "      <th>title</th>\n",
       "      <th>text</th>\n",
       "      <th>result</th>\n",
       "    </tr>\n",
       "  </thead>\n",
       "  <tbody>\n",
       "    <tr>\n",
       "      <th>16039</th>\n",
       "      <td>HEATED! MARIA BARTIROMO Goes At It With John P...</td>\n",
       "      <td>John Podesta is the guardian of the Clintons j...</td>\n",
       "      <td>0</td>\n",
       "    </tr>\n",
       "    <tr>\n",
       "      <th>20154</th>\n",
       "      <td>SAY WHAT? Law Firm Who Gave GITMO TERRORISTS A...</td>\n",
       "      <td>Tickets to the fundraiser for Hillary hosted b...</td>\n",
       "      <td>0</td>\n",
       "    </tr>\n",
       "    <tr>\n",
       "      <th>8989</th>\n",
       "      <td>Nobody In Oregon Seems To Want The Bundy Mili...</td>\n",
       "      <td>After going to all the trouble of leaving thei...</td>\n",
       "      <td>0</td>\n",
       "    </tr>\n",
       "    <tr>\n",
       "      <th>4972</th>\n",
       "      <td>RBG BLASTS Republicans For Crippling The Supr...</td>\n",
       "      <td>Supreme Court Justice Ruth Bader Ginsburg is b...</td>\n",
       "      <td>0</td>\n",
       "    </tr>\n",
       "    <tr>\n",
       "      <th>1087</th>\n",
       "      <td>The White House Has Gone Dark And CNN Is NOT ...</td>\n",
       "      <td>White House press briefings have gone complete...</td>\n",
       "      <td>0</td>\n",
       "    </tr>\n",
       "  </tbody>\n",
       "</table>\n",
       "</div>"
      ],
      "text/plain": [
       "                                                   title  \\\n",
       "16039  HEATED! MARIA BARTIROMO Goes At It With John P...   \n",
       "20154  SAY WHAT? Law Firm Who Gave GITMO TERRORISTS A...   \n",
       "8989    Nobody In Oregon Seems To Want The Bundy Mili...   \n",
       "4972    RBG BLASTS Republicans For Crippling The Supr...   \n",
       "1087    The White House Has Gone Dark And CNN Is NOT ...   \n",
       "\n",
       "                                                    text  result  \n",
       "16039  John Podesta is the guardian of the Clintons j...       0  \n",
       "20154  Tickets to the fundraiser for Hillary hosted b...       0  \n",
       "8989   After going to all the trouble of leaving thei...       0  \n",
       "4972   Supreme Court Justice Ruth Bader Ginsburg is b...       0  \n",
       "1087   White House press briefings have gone complete...       0  "
      ]
     },
     "execution_count": 4,
     "metadata": {},
     "output_type": "execute_result"
    }
   ],
   "source": [
    "data = real.append(fake)\n",
    "data.sample(5)"
   ]
  },
  {
   "cell_type": "code",
   "execution_count": 5,
   "metadata": {},
   "outputs": [
    {
     "data": {
      "text/plain": [
       "(31428, 13470)"
      ]
     },
     "execution_count": 5,
     "metadata": {},
     "output_type": "execute_result"
    }
   ],
   "source": [
    "results = data['result'].values\n",
    "trainData, testData, trainTargets, testTargets = train_test_split(data,\n",
    "                                                                results, \n",
    "                                                                test_size=0.3)\n",
    "vectorizer = CountVectorizer(strip_accents = 'unicode',\n",
    "                             stop_words = 'english',\n",
    "                             lowercase = True,\n",
    "                             token_pattern = r'\\b[a-zA-Z]{3,}\\b',\n",
    "                             ngram_range=(1, 2))\n",
    "\n",
    "trainCounts = vectorizer.fit_transform(trainData['title'].values)\n",
    "testCounts = vectorizer.transform(testData['title'].values)\n",
    "trainResults, testResults = trainData['result'].values , testData['result'].values\n",
    "len(trainResults), len(testResults)"
   ]
  },
  {
   "cell_type": "code",
   "execution_count": 18,
   "metadata": {},
   "outputs": [
    {
     "data": {
      "text/plain": [
       "RandomForestClassifier(bootstrap=True, ccp_alpha=0.0, class_weight=None,\n",
       "                       criterion='gini', max_depth=None, max_features='auto',\n",
       "                       max_leaf_nodes=None, max_samples=None,\n",
       "                       min_impurity_decrease=0.0, min_impurity_split=None,\n",
       "                       min_samples_leaf=1, min_samples_split=2,\n",
       "                       min_weight_fraction_leaf=0.0, n_estimators=5,\n",
       "                       n_jobs=None, oob_score=False, random_state=None,\n",
       "                       verbose=0, warm_start=False)"
      ]
     },
     "execution_count": 18,
     "metadata": {},
     "output_type": "execute_result"
    }
   ],
   "source": [
    "#classifier = SVC(gamma='auto')\n",
    "#classifier = GaussianNB()\n",
    "classifier = RandomForestClassifier(n_estimators=5) #20 trees\n",
    "#classifier = XGBClassifier(learning_rate=0.2, max_depth=4)\n",
    "classifier.fit(trainCounts, trainResults)"
   ]
  },
  {
   "cell_type": "code",
   "execution_count": 19,
   "metadata": {},
   "outputs": [
    {
     "data": {
      "text/plain": [
       "90.99480326651819"
      ]
     },
     "execution_count": 19,
     "metadata": {},
     "output_type": "execute_result"
    }
   ],
   "source": [
    "classifier.score(testCounts, testResults)*100"
   ]
  },
  {
   "cell_type": "markdown",
   "metadata": {},
   "source": [
    "Configuration\t   Accuracy\t          Precision\t               Recall\n",
    "\n"
   ]
  },
  {
   "cell_type": "code",
   "execution_count": null,
   "metadata": {},
   "outputs": [],
   "source": []
  }
 ],
 "metadata": {
  "kernelspec": {
   "display_name": "Python 3",
   "language": "python",
   "name": "python3"
  },
  "language_info": {
   "codemirror_mode": {
    "name": "ipython",
    "version": 3
   },
   "file_extension": ".py",
   "mimetype": "text/x-python",
   "name": "python",
   "nbconvert_exporter": "python",
   "pygments_lexer": "ipython3",
   "version": "3.7.6"
  }
 },
 "nbformat": 4,
 "nbformat_minor": 4
}
