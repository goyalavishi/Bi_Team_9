{
 "cells": [
  {
   "cell_type": "markdown",
   "metadata": {},
   "source": [
    "1. Word Count in Title \n",
    "2. Word Count in Text\n",
    "3. Stopword Count in Title\n",
    "4. Stopword Count in Text"
   ]
  },
  {
   "cell_type": "code",
   "execution_count": 1,
   "metadata": {},
   "outputs": [],
   "source": [
    "import pandas as pd\n",
    "import os\n",
    "import statistics "
   ]
  },
  {
   "cell_type": "code",
   "execution_count": 2,
   "metadata": {},
   "outputs": [
    {
     "name": "stdout",
     "output_type": "stream",
     "text": [
      "Total rows:  21417\n"
     ]
    },
    {
     "data": {
      "text/html": [
       "<div>\n",
       "<style scoped>\n",
       "    .dataframe tbody tr th:only-of-type {\n",
       "        vertical-align: middle;\n",
       "    }\n",
       "\n",
       "    .dataframe tbody tr th {\n",
       "        vertical-align: top;\n",
       "    }\n",
       "\n",
       "    .dataframe thead th {\n",
       "        text-align: right;\n",
       "    }\n",
       "</style>\n",
       "<table border=\"1\" class=\"dataframe\">\n",
       "  <thead>\n",
       "    <tr style=\"text-align: right;\">\n",
       "      <th></th>\n",
       "      <th>title</th>\n",
       "      <th>text</th>\n",
       "      <th>subject</th>\n",
       "      <th>date</th>\n",
       "    </tr>\n",
       "  </thead>\n",
       "  <tbody>\n",
       "    <tr>\n",
       "      <th>0</th>\n",
       "      <td>Donald Trump Sends Out Embarrassing New Year’...</td>\n",
       "      <td>Donald Trump just couldn t wish all Americans ...</td>\n",
       "      <td>News</td>\n",
       "      <td>December 31, 2017</td>\n",
       "    </tr>\n",
       "    <tr>\n",
       "      <th>1</th>\n",
       "      <td>Drunk Bragging Trump Staffer Started Russian ...</td>\n",
       "      <td>House Intelligence Committee Chairman Devin Nu...</td>\n",
       "      <td>News</td>\n",
       "      <td>December 31, 2017</td>\n",
       "    </tr>\n",
       "    <tr>\n",
       "      <th>2</th>\n",
       "      <td>Sheriff David Clarke Becomes An Internet Joke...</td>\n",
       "      <td>On Friday, it was revealed that former Milwauk...</td>\n",
       "      <td>News</td>\n",
       "      <td>December 30, 2017</td>\n",
       "    </tr>\n",
       "    <tr>\n",
       "      <th>3</th>\n",
       "      <td>Trump Is So Obsessed He Even Has Obama’s Name...</td>\n",
       "      <td>On Christmas day, Donald Trump announced that ...</td>\n",
       "      <td>News</td>\n",
       "      <td>December 29, 2017</td>\n",
       "    </tr>\n",
       "    <tr>\n",
       "      <th>4</th>\n",
       "      <td>Pope Francis Just Called Out Donald Trump Dur...</td>\n",
       "      <td>Pope Francis used his annual Christmas Day mes...</td>\n",
       "      <td>News</td>\n",
       "      <td>December 25, 2017</td>\n",
       "    </tr>\n",
       "  </tbody>\n",
       "</table>\n",
       "</div>"
      ],
      "text/plain": [
       "                                               title  \\\n",
       "0   Donald Trump Sends Out Embarrassing New Year’...   \n",
       "1   Drunk Bragging Trump Staffer Started Russian ...   \n",
       "2   Sheriff David Clarke Becomes An Internet Joke...   \n",
       "3   Trump Is So Obsessed He Even Has Obama’s Name...   \n",
       "4   Pope Francis Just Called Out Donald Trump Dur...   \n",
       "\n",
       "                                                text subject  \\\n",
       "0  Donald Trump just couldn t wish all Americans ...    News   \n",
       "1  House Intelligence Committee Chairman Devin Nu...    News   \n",
       "2  On Friday, it was revealed that former Milwauk...    News   \n",
       "3  On Christmas day, Donald Trump announced that ...    News   \n",
       "4  Pope Francis used his annual Christmas Day mes...    News   \n",
       "\n",
       "                date  \n",
       "0  December 31, 2017  \n",
       "1  December 31, 2017  \n",
       "2  December 30, 2017  \n",
       "3  December 29, 2017  \n",
       "4  December 25, 2017  "
      ]
     },
     "execution_count": 2,
     "metadata": {},
     "output_type": "execute_result"
    }
   ],
   "source": [
    "df_fake=pd.read_csv('/home/avishi/Documents/Fake-and-Real-News-Predictor/Datasets/Fake.csv')\n",
    "df_fake=df_fake.head(21417)\n",
    "print(\"Total rows: \",len(df_fake))\n",
    "df_fake.head()"
   ]
  },
  {
   "cell_type": "code",
   "execution_count": 3,
   "metadata": {},
   "outputs": [
    {
     "data": {
      "text/html": [
       "<div>\n",
       "<style scoped>\n",
       "    .dataframe tbody tr th:only-of-type {\n",
       "        vertical-align: middle;\n",
       "    }\n",
       "\n",
       "    .dataframe tbody tr th {\n",
       "        vertical-align: top;\n",
       "    }\n",
       "\n",
       "    .dataframe thead th {\n",
       "        text-align: right;\n",
       "    }\n",
       "</style>\n",
       "<table border=\"1\" class=\"dataframe\">\n",
       "  <thead>\n",
       "    <tr style=\"text-align: right;\">\n",
       "      <th></th>\n",
       "      <th>title</th>\n",
       "      <th>text</th>\n",
       "      <th>subject</th>\n",
       "      <th>date</th>\n",
       "      <th>Title Count</th>\n",
       "    </tr>\n",
       "  </thead>\n",
       "  <tbody>\n",
       "    <tr>\n",
       "      <th>0</th>\n",
       "      <td>Donald Trump Sends Out Embarrassing New Year’...</td>\n",
       "      <td>Donald Trump just couldn t wish all Americans ...</td>\n",
       "      <td>News</td>\n",
       "      <td>December 31, 2017</td>\n",
       "      <td>12</td>\n",
       "    </tr>\n",
       "    <tr>\n",
       "      <th>1</th>\n",
       "      <td>Drunk Bragging Trump Staffer Started Russian ...</td>\n",
       "      <td>House Intelligence Committee Chairman Devin Nu...</td>\n",
       "      <td>News</td>\n",
       "      <td>December 31, 2017</td>\n",
       "      <td>8</td>\n",
       "    </tr>\n",
       "    <tr>\n",
       "      <th>2</th>\n",
       "      <td>Sheriff David Clarke Becomes An Internet Joke...</td>\n",
       "      <td>On Friday, it was revealed that former Milwauk...</td>\n",
       "      <td>News</td>\n",
       "      <td>December 30, 2017</td>\n",
       "      <td>15</td>\n",
       "    </tr>\n",
       "    <tr>\n",
       "      <th>3</th>\n",
       "      <td>Trump Is So Obsessed He Even Has Obama’s Name...</td>\n",
       "      <td>On Christmas day, Donald Trump announced that ...</td>\n",
       "      <td>News</td>\n",
       "      <td>December 29, 2017</td>\n",
       "      <td>14</td>\n",
       "    </tr>\n",
       "    <tr>\n",
       "      <th>4</th>\n",
       "      <td>Pope Francis Just Called Out Donald Trump Dur...</td>\n",
       "      <td>Pope Francis used his annual Christmas Day mes...</td>\n",
       "      <td>News</td>\n",
       "      <td>December 25, 2017</td>\n",
       "      <td>11</td>\n",
       "    </tr>\n",
       "  </tbody>\n",
       "</table>\n",
       "</div>"
      ],
      "text/plain": [
       "                                               title  \\\n",
       "0   Donald Trump Sends Out Embarrassing New Year’...   \n",
       "1   Drunk Bragging Trump Staffer Started Russian ...   \n",
       "2   Sheriff David Clarke Becomes An Internet Joke...   \n",
       "3   Trump Is So Obsessed He Even Has Obama’s Name...   \n",
       "4   Pope Francis Just Called Out Donald Trump Dur...   \n",
       "\n",
       "                                                text subject  \\\n",
       "0  Donald Trump just couldn t wish all Americans ...    News   \n",
       "1  House Intelligence Committee Chairman Devin Nu...    News   \n",
       "2  On Friday, it was revealed that former Milwauk...    News   \n",
       "3  On Christmas day, Donald Trump announced that ...    News   \n",
       "4  Pope Francis used his annual Christmas Day mes...    News   \n",
       "\n",
       "                date  Title Count  \n",
       "0  December 31, 2017           12  \n",
       "1  December 31, 2017            8  \n",
       "2  December 30, 2017           15  \n",
       "3  December 29, 2017           14  \n",
       "4  December 25, 2017           11  "
      ]
     },
     "execution_count": 3,
     "metadata": {},
     "output_type": "execute_result"
    }
   ],
   "source": [
    "title_count=[]\n",
    "for i in df_fake['title']:\n",
    "  title_count.append(len(i.split()))\n",
    "\n",
    "df_fake['Title Count']=title_count\n",
    "\n",
    "df_fake.head()"
   ]
  },
  {
   "cell_type": "code",
   "execution_count": 4,
   "metadata": {},
   "outputs": [
    {
     "data": {
      "text/plain": [
       "14.957837232105337"
      ]
     },
     "execution_count": 4,
     "metadata": {},
     "output_type": "execute_result"
    }
   ],
   "source": [
    "df_fake['Title Count'].mean()"
   ]
  },
  {
   "cell_type": "code",
   "execution_count": 5,
   "metadata": {},
   "outputs": [
    {
     "name": "stdout",
     "output_type": "stream",
     "text": [
      "Total rows:  21417\n"
     ]
    },
    {
     "data": {
      "text/html": [
       "<div>\n",
       "<style scoped>\n",
       "    .dataframe tbody tr th:only-of-type {\n",
       "        vertical-align: middle;\n",
       "    }\n",
       "\n",
       "    .dataframe tbody tr th {\n",
       "        vertical-align: top;\n",
       "    }\n",
       "\n",
       "    .dataframe thead th {\n",
       "        text-align: right;\n",
       "    }\n",
       "</style>\n",
       "<table border=\"1\" class=\"dataframe\">\n",
       "  <thead>\n",
       "    <tr style=\"text-align: right;\">\n",
       "      <th></th>\n",
       "      <th>title</th>\n",
       "      <th>text</th>\n",
       "      <th>subject</th>\n",
       "      <th>date</th>\n",
       "    </tr>\n",
       "  </thead>\n",
       "  <tbody>\n",
       "    <tr>\n",
       "      <th>0</th>\n",
       "      <td>As U.S. budget fight looms, Republicans flip t...</td>\n",
       "      <td>WASHINGTON (Reuters) - The head of a conservat...</td>\n",
       "      <td>politicsNews</td>\n",
       "      <td>December 31, 2017</td>\n",
       "    </tr>\n",
       "    <tr>\n",
       "      <th>1</th>\n",
       "      <td>U.S. military to accept transgender recruits o...</td>\n",
       "      <td>WASHINGTON (Reuters) - Transgender people will...</td>\n",
       "      <td>politicsNews</td>\n",
       "      <td>December 29, 2017</td>\n",
       "    </tr>\n",
       "    <tr>\n",
       "      <th>2</th>\n",
       "      <td>Senior U.S. Republican senator: 'Let Mr. Muell...</td>\n",
       "      <td>WASHINGTON (Reuters) - The special counsel inv...</td>\n",
       "      <td>politicsNews</td>\n",
       "      <td>December 31, 2017</td>\n",
       "    </tr>\n",
       "    <tr>\n",
       "      <th>3</th>\n",
       "      <td>FBI Russia probe helped by Australian diplomat...</td>\n",
       "      <td>WASHINGTON (Reuters) - Trump campaign adviser ...</td>\n",
       "      <td>politicsNews</td>\n",
       "      <td>December 30, 2017</td>\n",
       "    </tr>\n",
       "    <tr>\n",
       "      <th>4</th>\n",
       "      <td>Trump wants Postal Service to charge 'much mor...</td>\n",
       "      <td>SEATTLE/WASHINGTON (Reuters) - President Donal...</td>\n",
       "      <td>politicsNews</td>\n",
       "      <td>December 29, 2017</td>\n",
       "    </tr>\n",
       "  </tbody>\n",
       "</table>\n",
       "</div>"
      ],
      "text/plain": [
       "                                               title  \\\n",
       "0  As U.S. budget fight looms, Republicans flip t...   \n",
       "1  U.S. military to accept transgender recruits o...   \n",
       "2  Senior U.S. Republican senator: 'Let Mr. Muell...   \n",
       "3  FBI Russia probe helped by Australian diplomat...   \n",
       "4  Trump wants Postal Service to charge 'much mor...   \n",
       "\n",
       "                                                text       subject  \\\n",
       "0  WASHINGTON (Reuters) - The head of a conservat...  politicsNews   \n",
       "1  WASHINGTON (Reuters) - Transgender people will...  politicsNews   \n",
       "2  WASHINGTON (Reuters) - The special counsel inv...  politicsNews   \n",
       "3  WASHINGTON (Reuters) - Trump campaign adviser ...  politicsNews   \n",
       "4  SEATTLE/WASHINGTON (Reuters) - President Donal...  politicsNews   \n",
       "\n",
       "                 date  \n",
       "0  December 31, 2017   \n",
       "1  December 29, 2017   \n",
       "2  December 31, 2017   \n",
       "3  December 30, 2017   \n",
       "4  December 29, 2017   "
      ]
     },
     "execution_count": 5,
     "metadata": {},
     "output_type": "execute_result"
    }
   ],
   "source": [
    "df_true=pd.read_csv('/home/avishi/Documents/Fake-and-Real-News-Predictor/Datasets/True.csv')\n",
    "print(\"Total rows: \",len(df_true))\n",
    "df_true.head()"
   ]
  },
  {
   "cell_type": "code",
   "execution_count": 6,
   "metadata": {},
   "outputs": [
    {
     "data": {
      "text/html": [
       "<div>\n",
       "<style scoped>\n",
       "    .dataframe tbody tr th:only-of-type {\n",
       "        vertical-align: middle;\n",
       "    }\n",
       "\n",
       "    .dataframe tbody tr th {\n",
       "        vertical-align: top;\n",
       "    }\n",
       "\n",
       "    .dataframe thead th {\n",
       "        text-align: right;\n",
       "    }\n",
       "</style>\n",
       "<table border=\"1\" class=\"dataframe\">\n",
       "  <thead>\n",
       "    <tr style=\"text-align: right;\">\n",
       "      <th></th>\n",
       "      <th>title</th>\n",
       "      <th>text</th>\n",
       "      <th>subject</th>\n",
       "      <th>date</th>\n",
       "      <th>Title Count</th>\n",
       "    </tr>\n",
       "  </thead>\n",
       "  <tbody>\n",
       "    <tr>\n",
       "      <th>0</th>\n",
       "      <td>As U.S. budget fight looms, Republicans flip t...</td>\n",
       "      <td>WASHINGTON (Reuters) - The head of a conservat...</td>\n",
       "      <td>politicsNews</td>\n",
       "      <td>December 31, 2017</td>\n",
       "      <td>10</td>\n",
       "    </tr>\n",
       "    <tr>\n",
       "      <th>1</th>\n",
       "      <td>U.S. military to accept transgender recruits o...</td>\n",
       "      <td>WASHINGTON (Reuters) - Transgender people will...</td>\n",
       "      <td>politicsNews</td>\n",
       "      <td>December 29, 2017</td>\n",
       "      <td>9</td>\n",
       "    </tr>\n",
       "    <tr>\n",
       "      <th>2</th>\n",
       "      <td>Senior U.S. Republican senator: 'Let Mr. Muell...</td>\n",
       "      <td>WASHINGTON (Reuters) - The special counsel inv...</td>\n",
       "      <td>politicsNews</td>\n",
       "      <td>December 31, 2017</td>\n",
       "      <td>10</td>\n",
       "    </tr>\n",
       "    <tr>\n",
       "      <th>3</th>\n",
       "      <td>FBI Russia probe helped by Australian diplomat...</td>\n",
       "      <td>WASHINGTON (Reuters) - Trump campaign adviser ...</td>\n",
       "      <td>politicsNews</td>\n",
       "      <td>December 30, 2017</td>\n",
       "      <td>9</td>\n",
       "    </tr>\n",
       "    <tr>\n",
       "      <th>4</th>\n",
       "      <td>Trump wants Postal Service to charge 'much mor...</td>\n",
       "      <td>SEATTLE/WASHINGTON (Reuters) - President Donal...</td>\n",
       "      <td>politicsNews</td>\n",
       "      <td>December 29, 2017</td>\n",
       "      <td>11</td>\n",
       "    </tr>\n",
       "  </tbody>\n",
       "</table>\n",
       "</div>"
      ],
      "text/plain": [
       "                                               title  \\\n",
       "0  As U.S. budget fight looms, Republicans flip t...   \n",
       "1  U.S. military to accept transgender recruits o...   \n",
       "2  Senior U.S. Republican senator: 'Let Mr. Muell...   \n",
       "3  FBI Russia probe helped by Australian diplomat...   \n",
       "4  Trump wants Postal Service to charge 'much mor...   \n",
       "\n",
       "                                                text       subject  \\\n",
       "0  WASHINGTON (Reuters) - The head of a conservat...  politicsNews   \n",
       "1  WASHINGTON (Reuters) - Transgender people will...  politicsNews   \n",
       "2  WASHINGTON (Reuters) - The special counsel inv...  politicsNews   \n",
       "3  WASHINGTON (Reuters) - Trump campaign adviser ...  politicsNews   \n",
       "4  SEATTLE/WASHINGTON (Reuters) - President Donal...  politicsNews   \n",
       "\n",
       "                 date  Title Count  \n",
       "0  December 31, 2017            10  \n",
       "1  December 29, 2017             9  \n",
       "2  December 31, 2017            10  \n",
       "3  December 30, 2017             9  \n",
       "4  December 29, 2017            11  "
      ]
     },
     "execution_count": 6,
     "metadata": {},
     "output_type": "execute_result"
    }
   ],
   "source": [
    "title_count=[]\n",
    "for i in df_true['title']:\n",
    "  title_count.append(len(i.split()))\n",
    "\n",
    "df_true['Title Count']=title_count\n",
    "\n",
    "df_true.head()"
   ]
  },
  {
   "cell_type": "code",
   "execution_count": 7,
   "metadata": {},
   "outputs": [
    {
     "data": {
      "text/plain": [
       "9.954475416725032"
      ]
     },
     "execution_count": 7,
     "metadata": {},
     "output_type": "execute_result"
    }
   ],
   "source": [
    "df_true['Title Count'].mean()"
   ]
  },
  {
   "cell_type": "code",
   "execution_count": 8,
   "metadata": {},
   "outputs": [
    {
     "data": {
      "text/plain": [
       "10.0"
      ]
     },
     "execution_count": 8,
     "metadata": {},
     "output_type": "execute_result"
    }
   ],
   "source": [
    "df_true['Title Count'].median()"
   ]
  },
  {
   "cell_type": "code",
   "execution_count": 9,
   "metadata": {},
   "outputs": [
    {
     "data": {
      "text/plain": [
       "0    10\n",
       "dtype: int64"
      ]
     },
     "execution_count": 9,
     "metadata": {},
     "output_type": "execute_result"
    }
   ],
   "source": [
    "df_true['Title Count'].mode()"
   ]
  },
  {
   "cell_type": "code",
   "execution_count": 10,
   "metadata": {},
   "outputs": [
    {
     "data": {
      "text/plain": [
       "20"
      ]
     },
     "execution_count": 10,
     "metadata": {},
     "output_type": "execute_result"
    }
   ],
   "source": [
    "df_true['Title Count'].max()"
   ]
  },
  {
   "cell_type": "code",
   "execution_count": 11,
   "metadata": {},
   "outputs": [
    {
     "data": {
      "text/plain": [
       "4"
      ]
     },
     "execution_count": 11,
     "metadata": {},
     "output_type": "execute_result"
    }
   ],
   "source": [
    "df_true['Title Count'].min()"
   ]
  },
  {
   "cell_type": "code",
   "execution_count": 12,
   "metadata": {},
   "outputs": [
    {
     "data": {
      "text/plain": [
       "14.957837232105337"
      ]
     },
     "execution_count": 12,
     "metadata": {},
     "output_type": "execute_result"
    }
   ],
   "source": [
    "df_fake['Title Count'].mean()"
   ]
  },
  {
   "cell_type": "code",
   "execution_count": 13,
   "metadata": {},
   "outputs": [
    {
     "data": {
      "text/plain": [
       "14.0"
      ]
     },
     "execution_count": 13,
     "metadata": {},
     "output_type": "execute_result"
    }
   ],
   "source": [
    "df_fake['Title Count'].median()"
   ]
  },
  {
   "cell_type": "code",
   "execution_count": 14,
   "metadata": {},
   "outputs": [
    {
     "data": {
      "text/plain": [
       "0    13\n",
       "dtype: int64"
      ]
     },
     "execution_count": 14,
     "metadata": {},
     "output_type": "execute_result"
    }
   ],
   "source": [
    "df_fake['Title Count'].mode()"
   ]
  },
  {
   "cell_type": "code",
   "execution_count": 15,
   "metadata": {},
   "outputs": [
    {
     "data": {
      "text/plain": [
       "42"
      ]
     },
     "execution_count": 15,
     "metadata": {},
     "output_type": "execute_result"
    }
   ],
   "source": [
    "df_fake['Title Count'].max()"
   ]
  },
  {
   "cell_type": "code",
   "execution_count": 16,
   "metadata": {},
   "outputs": [
    {
     "data": {
      "text/plain": [
       "1"
      ]
     },
     "execution_count": 16,
     "metadata": {},
     "output_type": "execute_result"
    }
   ],
   "source": [
    "df_fake['Title Count'].min()"
   ]
  },
  {
   "cell_type": "code",
   "execution_count": 36,
   "metadata": {},
   "outputs": [
    {
     "name": "stdout",
     "output_type": "stream",
     "text": [
      "FAKE NEWS\n",
      "Mean:  14.957837232105337\n",
      "Median:  14.0\n",
      "Mode:  0    13\n",
      "dtype: int64\n",
      "Max:  42\n",
      "\n",
      "TRUE NEWS\n",
      "Mean:  9.954475416725032\n",
      "Median:  10.0\n",
      "Mode:  0    10\n",
      "dtype: int64\n",
      "Max:  20\n"
     ]
    },
    {
     "data": {
      "image/png": "[encoded data removed]",
      "text/plain": [
       "<Figure size 432x288 with 1 Axes>"
      ]
     },
     "metadata": {
      "needs_background": "light"
     },
     "output_type": "display_data"
    }
   ],
   "source": [
    "import matplotlib.pyplot as plt\n",
    "import numpy as np\n",
    "\n",
    "bins = 20\n",
    "\n",
    "print(\"FAKE NEWS\")\n",
    "print(\"Mean: \",df_fake['Title Count'].mean())\n",
    "print(\"Median: \",df_fake['Title Count'].median())\n",
    "print(\"Mode: \",df_fake['Title Count'].mode())\n",
    "print(\"Max: \",df_fake['Title Count'].max())\n",
    "print(\"\")\n",
    "print(\"TRUE NEWS\")\n",
    "print(\"Mean: \",df_true['Title Count'].mean())\n",
    "print(\"Median: \",df_true['Title Count'].median())\n",
    "print(\"Mode: \",df_true['Title Count'].mode())\n",
    "print(\"Max: \",df_true['Title Count'].max())\n",
    "\n",
    "#fig, ax = plt.subplots(1,2)\n",
    "plt.hist(df_fake['Title Count'], bins, alpha = 0.5, color = 'r',label='Fake News')\n",
    "plt.hist(df_true['Title Count'], bins, alpha = 0.5, color = 'g',label='True News')\n",
    "#fig.tight_layout(pad=1.0)\n",
    "plt.title('Word Length Comparison in News Title')\n",
    "plt.xlabel('Length(in Words)')\n",
    "plt.ylabel('Frequency')\n",
    "plt.legend()\n",
    "plt.show()"
   ]
  },
  {
   "cell_type": "code",
   "execution_count": 18,
   "metadata": {},
   "outputs": [
    {
     "data": {
      "text/html": [
       "<div>\n",
       "<style scoped>\n",
       "    .dataframe tbody tr th:only-of-type {\n",
       "        vertical-align: middle;\n",
       "    }\n",
       "\n",
       "    .dataframe tbody tr th {\n",
       "        vertical-align: top;\n",
       "    }\n",
       "\n",
       "    .dataframe thead th {\n",
       "        text-align: right;\n",
       "    }\n",
       "</style>\n",
       "<table border=\"1\" class=\"dataframe\">\n",
       "  <thead>\n",
       "    <tr style=\"text-align: right;\">\n",
       "      <th></th>\n",
       "      <th>title</th>\n",
       "      <th>text</th>\n",
       "      <th>subject</th>\n",
       "      <th>date</th>\n",
       "      <th>Title Count</th>\n",
       "      <th>Word Count</th>\n",
       "    </tr>\n",
       "  </thead>\n",
       "  <tbody>\n",
       "    <tr>\n",
       "      <th>0</th>\n",
       "      <td>As U.S. budget fight looms, Republicans flip t...</td>\n",
       "      <td>WASHINGTON (Reuters) - The head of a conservat...</td>\n",
       "      <td>politicsNews</td>\n",
       "      <td>December 31, 2017</td>\n",
       "      <td>10</td>\n",
       "      <td>749</td>\n",
       "    </tr>\n",
       "    <tr>\n",
       "      <th>1</th>\n",
       "      <td>U.S. military to accept transgender recruits o...</td>\n",
       "      <td>WASHINGTON (Reuters) - Transgender people will...</td>\n",
       "      <td>politicsNews</td>\n",
       "      <td>December 29, 2017</td>\n",
       "      <td>9</td>\n",
       "      <td>624</td>\n",
       "    </tr>\n",
       "    <tr>\n",
       "      <th>2</th>\n",
       "      <td>Senior U.S. Republican senator: 'Let Mr. Muell...</td>\n",
       "      <td>WASHINGTON (Reuters) - The special counsel inv...</td>\n",
       "      <td>politicsNews</td>\n",
       "      <td>December 31, 2017</td>\n",
       "      <td>10</td>\n",
       "      <td>457</td>\n",
       "    </tr>\n",
       "    <tr>\n",
       "      <th>3</th>\n",
       "      <td>FBI Russia probe helped by Australian diplomat...</td>\n",
       "      <td>WASHINGTON (Reuters) - Trump campaign adviser ...</td>\n",
       "      <td>politicsNews</td>\n",
       "      <td>December 30, 2017</td>\n",
       "      <td>9</td>\n",
       "      <td>376</td>\n",
       "    </tr>\n",
       "    <tr>\n",
       "      <th>4</th>\n",
       "      <td>Trump wants Postal Service to charge 'much mor...</td>\n",
       "      <td>SEATTLE/WASHINGTON (Reuters) - President Donal...</td>\n",
       "      <td>politicsNews</td>\n",
       "      <td>December 29, 2017</td>\n",
       "      <td>11</td>\n",
       "      <td>852</td>\n",
       "    </tr>\n",
       "  </tbody>\n",
       "</table>\n",
       "</div>"
      ],
      "text/plain": [
       "                                               title  \\\n",
       "0  As U.S. budget fight looms, Republicans flip t...   \n",
       "1  U.S. military to accept transgender recruits o...   \n",
       "2  Senior U.S. Republican senator: 'Let Mr. Muell...   \n",
       "3  FBI Russia probe helped by Australian diplomat...   \n",
       "4  Trump wants Postal Service to charge 'much mor...   \n",
       "\n",
       "                                                text       subject  \\\n",
       "0  WASHINGTON (Reuters) - The head of a conservat...  politicsNews   \n",
       "1  WASHINGTON (Reuters) - Transgender people will...  politicsNews   \n",
       "2  WASHINGTON (Reuters) - The special counsel inv...  politicsNews   \n",
       "3  WASHINGTON (Reuters) - Trump campaign adviser ...  politicsNews   \n",
       "4  SEATTLE/WASHINGTON (Reuters) - President Donal...  politicsNews   \n",
       "\n",
       "                 date  Title Count  Word Count  \n",
       "0  December 31, 2017            10         749  \n",
       "1  December 29, 2017             9         624  \n",
       "2  December 31, 2017            10         457  \n",
       "3  December 30, 2017             9         376  \n",
       "4  December 29, 2017            11         852  "
      ]
     },
     "execution_count": 18,
     "metadata": {},
     "output_type": "execute_result"
    }
   ],
   "source": [
    "word_count=[]\n",
    "for i in df_true['text']:\n",
    "  word_count.append(len(i.split()))\n",
    "\n",
    "df_true['Word Count']=word_count\n",
    "\n",
    "df_true.head()"
   ]
  },
  {
   "cell_type": "code",
   "execution_count": 19,
   "metadata": {},
   "outputs": [
    {
     "data": {
      "text/html": [
       "<div>\n",
       "<style scoped>\n",
       "    .dataframe tbody tr th:only-of-type {\n",
       "        vertical-align: middle;\n",
       "    }\n",
       "\n",
       "    .dataframe tbody tr th {\n",
       "        vertical-align: top;\n",
       "    }\n",
       "\n",
       "    .dataframe thead th {\n",
       "        text-align: right;\n",
       "    }\n",
       "</style>\n",
       "<table border=\"1\" class=\"dataframe\">\n",
       "  <thead>\n",
       "    <tr style=\"text-align: right;\">\n",
       "      <th></th>\n",
       "      <th>title</th>\n",
       "      <th>text</th>\n",
       "      <th>subject</th>\n",
       "      <th>date</th>\n",
       "      <th>Title Count</th>\n",
       "      <th>Word Count</th>\n",
       "    </tr>\n",
       "  </thead>\n",
       "  <tbody>\n",
       "    <tr>\n",
       "      <th>0</th>\n",
       "      <td>Donald Trump Sends Out Embarrassing New Year’...</td>\n",
       "      <td>Donald Trump just couldn t wish all Americans ...</td>\n",
       "      <td>News</td>\n",
       "      <td>December 31, 2017</td>\n",
       "      <td>12</td>\n",
       "      <td>495</td>\n",
       "    </tr>\n",
       "    <tr>\n",
       "      <th>1</th>\n",
       "      <td>Drunk Bragging Trump Staffer Started Russian ...</td>\n",
       "      <td>House Intelligence Committee Chairman Devin Nu...</td>\n",
       "      <td>News</td>\n",
       "      <td>December 31, 2017</td>\n",
       "      <td>8</td>\n",
       "      <td>305</td>\n",
       "    </tr>\n",
       "    <tr>\n",
       "      <th>2</th>\n",
       "      <td>Sheriff David Clarke Becomes An Internet Joke...</td>\n",
       "      <td>On Friday, it was revealed that former Milwauk...</td>\n",
       "      <td>News</td>\n",
       "      <td>December 30, 2017</td>\n",
       "      <td>15</td>\n",
       "      <td>580</td>\n",
       "    </tr>\n",
       "    <tr>\n",
       "      <th>3</th>\n",
       "      <td>Trump Is So Obsessed He Even Has Obama’s Name...</td>\n",
       "      <td>On Christmas day, Donald Trump announced that ...</td>\n",
       "      <td>News</td>\n",
       "      <td>December 29, 2017</td>\n",
       "      <td>14</td>\n",
       "      <td>444</td>\n",
       "    </tr>\n",
       "    <tr>\n",
       "      <th>4</th>\n",
       "      <td>Pope Francis Just Called Out Donald Trump Dur...</td>\n",
       "      <td>Pope Francis used his annual Christmas Day mes...</td>\n",
       "      <td>News</td>\n",
       "      <td>December 25, 2017</td>\n",
       "      <td>11</td>\n",
       "      <td>420</td>\n",
       "    </tr>\n",
       "  </tbody>\n",
       "</table>\n",
       "</div>"
      ],
      "text/plain": [
       "                                               title  \\\n",
       "0   Donald Trump Sends Out Embarrassing New Year’...   \n",
       "1   Drunk Bragging Trump Staffer Started Russian ...   \n",
       "2   Sheriff David Clarke Becomes An Internet Joke...   \n",
       "3   Trump Is So Obsessed He Even Has Obama’s Name...   \n",
       "4   Pope Francis Just Called Out Donald Trump Dur...   \n",
       "\n",
       "                                                text subject  \\\n",
       "0  Donald Trump just couldn t wish all Americans ...    News   \n",
       "1  House Intelligence Committee Chairman Devin Nu...    News   \n",
       "2  On Friday, it was revealed that former Milwauk...    News   \n",
       "3  On Christmas day, Donald Trump announced that ...    News   \n",
       "4  Pope Francis used his annual Christmas Day mes...    News   \n",
       "\n",
       "                date  Title Count  Word Count  \n",
       "0  December 31, 2017           12         495  \n",
       "1  December 31, 2017            8         305  \n",
       "2  December 30, 2017           15         580  \n",
       "3  December 29, 2017           14         444  \n",
       "4  December 25, 2017           11         420  "
      ]
     },
     "execution_count": 19,
     "metadata": {},
     "output_type": "execute_result"
    }
   ],
   "source": [
    "word_count=[]\n",
    "for i in df_fake['text']:\n",
    "  word_count.append(len(i.split()))\n",
    "\n",
    "df_fake['Word Count']=word_count\n",
    "\n",
    "df_fake.head()"
   ]
  },
  {
   "cell_type": "code",
   "execution_count": 35,
   "metadata": {},
   "outputs": [
    {
     "name": "stdout",
     "output_type": "stream",
     "text": [
      "FAKE NEWS\n",
      "Mean:  397.43530839986926\n",
      "Median:  364.0\n",
      "Mode:  0    0\n",
      "dtype: int64\n",
      "Max:  7033\n",
      "\n",
      "TRUE NEWS\n",
      "Mean:  385.6400989867862\n",
      "Median:  359.0\n",
      "Mode:  0    402\n",
      "dtype: int64\n",
      "Max:  5172\n"
     ]
    },
    {
     "data": {
      "image/png": "[encoded data removed]",
      "text/plain": [
       "<Figure size 432x288 with 1 Axes>"
      ]
     },
     "metadata": {
      "needs_background": "light"
     },
     "output_type": "display_data"
    }
   ],
   "source": [
    "import matplotlib.pyplot as plt\n",
    "import numpy as np\n",
    "\n",
    "print(\"FAKE NEWS\")\n",
    "print(\"Mean: \",df_fake['Word Count'].mean())\n",
    "print(\"Median: \",df_fake['Word Count'].median())\n",
    "print(\"Mode: \",df_fake['Word Count'].mode())\n",
    "print(\"Max: \",df_fake['Word Count'].max())\n",
    "print(\"\")\n",
    "print(\"TRUE NEWS\")\n",
    "print(\"Mean: \",df_true['Word Count'].mean())\n",
    "print(\"Median: \",df_true['Word Count'].median())\n",
    "print(\"Mode: \",df_true['Word Count'].mode())\n",
    "print(\"Max: \",df_true['Word Count'].max())\n",
    "\n",
    "bins = 20\n",
    "#fig, ax = plt.subplots(1,2)\n",
    "plt.hist(df_fake['Word Count'], bins, alpha = 0.5, color = 'r',label='Fake News')\n",
    "plt.hist(df_true['Word Count'], bins, alpha = 0.5, color = 'g',label='True News')\n",
    "#fig.tight_layout(pad=1.0)\n",
    "plt.title('Word Length Comparison in News Text')\n",
    "plt.xlabel('Length(in Words)')\n",
    "plt.ylabel('Frequency')\n",
    "plt.legend()\n",
    "plt.show()"
   ]
  },
  {
   "cell_type": "code",
   "execution_count": 21,
   "metadata": {},
   "outputs": [
    {
     "data": {
      "text/plain": [
       "397.43530839986926"
      ]
     },
     "execution_count": 21,
     "metadata": {},
     "output_type": "execute_result"
    }
   ],
   "source": [
    "df_fake['Word Count'].mean()"
   ]
  },
  {
   "cell_type": "code",
   "execution_count": 22,
   "metadata": {},
   "outputs": [
    {
     "data": {
      "text/plain": [
       "7033"
      ]
     },
     "execution_count": 22,
     "metadata": {},
     "output_type": "execute_result"
    }
   ],
   "source": [
    "df_fake['Word Count'].max()"
   ]
  },
  {
   "cell_type": "code",
   "execution_count": 23,
   "metadata": {},
   "outputs": [
    {
     "data": {
      "text/plain": [
       "0"
      ]
     },
     "execution_count": 23,
     "metadata": {},
     "output_type": "execute_result"
    }
   ],
   "source": [
    "df_fake['Word Count'].min()"
   ]
  },
  {
   "cell_type": "code",
   "execution_count": 24,
   "metadata": {},
   "outputs": [
    {
     "data": {
      "text/plain": [
       "385.6400989867862"
      ]
     },
     "execution_count": 24,
     "metadata": {},
     "output_type": "execute_result"
    }
   ],
   "source": [
    "df_true['Word Count'].mean()"
   ]
  },
  {
   "cell_type": "code",
   "execution_count": 25,
   "metadata": {},
   "outputs": [
    {
     "data": {
      "text/plain": [
       "5172"
      ]
     },
     "execution_count": 25,
     "metadata": {},
     "output_type": "execute_result"
    }
   ],
   "source": [
    "df_true['Word Count'].max()"
   ]
  },
  {
   "cell_type": "code",
   "execution_count": 26,
   "metadata": {},
   "outputs": [
    {
     "data": {
      "text/plain": [
       "0"
      ]
     },
     "execution_count": 26,
     "metadata": {},
     "output_type": "execute_result"
    }
   ],
   "source": [
    "df_true['Word Count'].min()"
   ]
  },
  {
   "cell_type": "code",
   "execution_count": 27,
   "metadata": {},
   "outputs": [
    {
     "name": "stderr",
     "output_type": "stream",
     "text": [
      "[nltk_data] Downloading package stopwords to /home/avishi/nltk_data...\n",
      "[nltk_data]   Package stopwords is already up-to-date!\n"
     ]
    },
    {
     "data": {
      "text/plain": [
       "179"
      ]
     },
     "execution_count": 27,
     "metadata": {},
     "output_type": "execute_result"
    }
   ],
   "source": [
    "import nltk\n",
    "nltk.download('stopwords')\n",
    "from nltk.corpus import stopwords\n",
    "\n",
    "stop_words=set(stopwords.words('english'))\n",
    "len(stop_words)"
   ]
  },
  {
   "cell_type": "code",
   "execution_count": 28,
   "metadata": {},
   "outputs": [
    {
     "name": "stdout",
     "output_type": "stream",
     "text": [
      "{'as': 1088, 'their': 32, 'to': 7799, 'on': 3341, 'do': 81, 'his': 196, 'by': 587, 'more': 355, 'for': 2770, 'will': 708, 'be': 493, 'but': 241, 'the': 545, 'of': 3010, 'he': 326, 'at': 884, 'was': 117, 'in': 4608, 'should': 175, 'not': 796, 'with': 1498, 'up': 308, 'into': 181, 'have': 138, 'a': 590, 'after': 1023, 'from': 761, 'until': 49, 'or': 80, 'over': 1009, 'has': 245, 'just': 23, 'what': 86, 'against': 443, 'other': 66, 'again': 64, 'all': 92, 'this': 91, 'out': 230, 'she': 29, 'under': 181, 'before': 154, 'that': 139, 'is': 413, 'an': 76, 'were': 22, 'and': 609, 'about': 258, 'it': 260, 'who': 127, 'if': 225, 'now': 61, 'does': 101, 'had': 34, 'through': 42, 'no': 371, 'between': 60, 'some': 147, 'during': 86, 'being': 40, 'how': 81, 'so': 20, 'than': 99, 'can': 162, 'him': 78, 'me': 15, 'are': 80, 'i': 34, 'down': 125, 'off': 126, 'while': 22, 'them': 15, 't': 8, 'any': 67, 'own': 28, 'its': 118, 'did': 43, 'himself': 27, 'her': 45, 'both': 22, 'most': 53, 'there': 21, 'then': 9, 'further': 28, 'such': 2, 'where': 21, 'been': 33, 'once': 15, 'only': 47, 'haven': 7, 'too': 31, 'here': 3, 'very': 24, 'having': 5, 'nor': 3, 'they': 44, 'we': 37, 's': 33, 'above': 4, 'when': 28, 'which': 4, 'few': 21, 'below': 4, 'your': 18, 'our': 18, 'doing': 9, 'my': 6, 'because': 5, 'itself': 11, 'why': 22, 'those': 9, 'same': 14, 'you': 16, 'am': 4, 'ma': 1, 'don': 3, 'won': 12, 'each': 10, 'ours': 1, 'm': 2, 'these': 2, 'herself': 3, 'whom': 2, 'themselves': 1}\n"
     ]
    }
   ],
   "source": [
    "stopwords_count=[]\n",
    "df_stopwords_true={}\n",
    "for i in df_true['title']:\n",
    "    word_tokens = nltk.word_tokenize(i.lower()) \n",
    "    stopwords=0;\n",
    "    \n",
    "    for w in word_tokens:\n",
    "        if w in stop_words:\n",
    "            stopwords+=1;\n",
    "            \n",
    "            if w not in df_stopwords_true.keys():\n",
    "                df_stopwords_true[w]=1\n",
    "            else :\n",
    "                df_stopwords_true[w]+=1\n",
    "                               \n",
    "    stopwords_count.append(stopwords);\n",
    "\n",
    "df_true['Stopwords']=stopwords_count;\n",
    "\n",
    "print(df_stopwords_true)"
   ]
  },
  {
   "cell_type": "code",
   "execution_count": null,
   "metadata": {},
   "outputs": [],
   "source": []
  },
  {
   "cell_type": "code",
   "execution_count": 29,
   "metadata": {},
   "outputs": [
    {
     "name": "stdout",
     "output_type": "stream",
     "text": [
      "{'s': 5523, 'is': 276, 't': 1334, 'for': 311, 'of': 651, 'all': 40, 're': 301, 'the': 610, 'he': 34, 'd': 81, 've': 98, 'll': 177, 'not': 150, 'to': 837, 'm': 121, 'about': 59, 'on': 228, 'and': 697, 'from': 41, 'a': 437, 'in': 357, 'up': 34, 'that': 107, 'by': 95, 'his': 41, 'it': 125, 'an': 50, 'isn': 5, 'after': 7, 'at': 109, 'or': 60, 'was': 86, 'this': 80, 'with': 115, 'didn': 10, 'as': 74, 'has': 37, 'him': 33, 'into': 9, 'we': 52, 'were': 25, 'you': 194, 'who': 27, 'am': 18, 'my': 70, 'before': 10, 'me': 51, 'are': 124, 'when': 21, 'how': 18, 'there': 16, 'no': 35, 'do': 45, 'off': 24, 'can': 63, 'don': 55, 'through': 6, 'she': 27, 'here': 23, 'doesn': 15, 'what': 38, 'have': 95, 'be': 90, 'your': 55, 'they': 31, 'should': 23, 'will': 53, 'own': 20, 'out': 41, 'her': 30, 'our': 29, 'been': 20, 'down': 33, 'if': 29, 'against': 13, 'some': 16, 'did': 24, 'more': 34, 'than': 20, 'yourself': 2, 'now': 14, 'shouldn': 3, 'so': 26, 'them': 33, 'being': 22, 'won': 14, 'just': 20, 'their': 32, 'but': 28, 'then': 7, 'herself': 1, 'over': 13, 'aren': 5, 'too': 10, 'other': 6, 'any': 13, 'ours': 1, 'only': 18, 'very': 23, 'both': 2, 'under': 6, 'had': 15, 'couldn': 4, 'because': 13, 'same': 4, 'does': 8, 'why': 9, 'wasn': 2, 'doing': 3, 'myself': 5, 'during': 3, 'again': 1, 'few': 2, 'above': 3, 'having': 1, 'whom': 1, 'ain': 4, 'those': 5, 'hasn': 1, 'its': 2, 'once': 4, 'most': 6, 'ourselves': 4, 'between': 2, 'such': 3, 'until': 2, 'weren': 2, 'these': 1, 'where': 3, 'wouldn': 1, 'each': 1}\n"
     ]
    }
   ],
   "source": [
    "stopwords_count=[]\n",
    "df_stopwords_fake={}\n",
    "for i in df_fake['title']:\n",
    "    word_tokens = nltk.word_tokenize(i) \n",
    "    stopwords=0;\n",
    "    \n",
    "    for w in word_tokens:\n",
    "        if w in stop_words:\n",
    "            stopwords+=1;\n",
    "            \n",
    "            if w not in df_stopwords_fake.keys():\n",
    "                df_stopwords_fake[w]=1\n",
    "            else :\n",
    "                df_stopwords_fake[w]+=1\n",
    "    \n",
    "    stopwords_count.append(stopwords);\n",
    "\n",
    "df_fake['Stopwords']=stopwords_count;\n",
    "print(df_stopwords_fake)"
   ]
  },
  {
   "cell_type": "code",
   "execution_count": 30,
   "metadata": {},
   "outputs": [
    {
     "name": "stdout",
     "output_type": "stream",
     "text": [
      "True News:  ['to', 'in', 'on', 'of', 'for', 'with', 'as', 'after', 'over', 'at']\n",
      "Fake News:  ['s', 't', 'to', 'and', 'of', 'the', 'a', 'in', 'for', 're']\n"
     ]
    }
   ],
   "source": [
    "import heapq\n",
    "most_freq_true = heapq.nlargest(10,df_stopwords_true, key=df_stopwords_true.get)\n",
    "most_freq_fake = heapq.nlargest(10,df_stopwords_fake, key=df_stopwords_fake.get)\n",
    "print(\"True News: \",most_freq_true)\n",
    "print(\"Fake News: \",most_freq_fake)"
   ]
  },
  {
   "cell_type": "code",
   "execution_count": 31,
   "metadata": {},
   "outputs": [
    {
     "name": "stdout",
     "output_type": "stream",
     "text": [
      "FAKE NEWS\n",
      "Mean:  0.7221833123219872\n",
      "Median:  0.0\n",
      "Mode:  0    0\n",
      "dtype: int64\n",
      "Max:  16\n",
      "\n",
      "TRUE NEWS\n",
      "Mean:  1.8875192604006163\n",
      "Median:  2.0\n",
      "Mode:  0    2\n",
      "dtype: int64\n",
      "Max:  8\n"
     ]
    },
    {
     "data": {
      "image/png": "[encoded data removed]",
      "text/plain": [
       "<Figure size 432x288 with 1 Axes>"
      ]
     },
     "metadata": {
      "needs_background": "light"
     },
     "output_type": "display_data"
    }
   ],
   "source": [
    "print(\"FAKE NEWS\")\n",
    "print(\"Mean: \",df_fake['Stopwords'].mean())\n",
    "print(\"Median: \",df_fake['Stopwords'].median())\n",
    "print(\"Mode: \",df_fake['Stopwords'].mode())\n",
    "print(\"Max: \",df_fake['Stopwords'].max())\n",
    "print(\"\")\n",
    "print(\"TRUE NEWS\")\n",
    "print(\"Mean: \",df_true['Stopwords'].mean())\n",
    "print(\"Median: \",df_true['Stopwords'].median())\n",
    "print(\"Mode: \",df_true['Stopwords'].mode())\n",
    "print(\"Max: \",df_true['Stopwords'].max())\n",
    "\n",
    "bins = 20\n",
    "#fig, ax = plt.subplots(1,2)\n",
    "plt.hist(df_fake['Stopwords'], bins, alpha = 0.5, color = 'r',label='Fake News')\n",
    "plt.hist(df_true['Stopwords'], bins, alpha = 0.5, color = 'g',label='True News')\n",
    "#fig.tight_layout(pad=1.0)\n",
    "plt.title('Stop words Comparison in News Title')\n",
    "plt.xlabel('Stopwords')\n",
    "plt.ylabel('Frequency')\n",
    "plt.legend()\n",
    "plt.show()"
   ]
  },
  {
   "cell_type": "code",
   "execution_count": 32,
   "metadata": {},
   "outputs": [],
   "source": [
    "stopwords_count=[]\n",
    "for i in df_true['text']:\n",
    "    word_tokens = nltk.word_tokenize(i) \n",
    "    stopwords=0;\n",
    "    \n",
    "    for w in word_tokens:\n",
    "        if w in stop_words:\n",
    "            stopwords+=1;\n",
    "    \n",
    "    stopwords_count.append(stopwords);\n",
    "\n",
    "df_true['Stopwords in news']=stopwords_count;\n"
   ]
  },
  {
   "cell_type": "code",
   "execution_count": 33,
   "metadata": {},
   "outputs": [],
   "source": [
    "stopwords_count=[]\n",
    "for i in df_fake['text']:\n",
    "    word_tokens = nltk.word_tokenize(i) \n",
    "    stopwords=0;\n",
    "    \n",
    "    for w in word_tokens:\n",
    "        if w in stop_words:\n",
    "            stopwords+=1;\n",
    "    \n",
    "    stopwords_count.append(stopwords);\n",
    "\n",
    "df_fake['Stopwords in news']=stopwords_count;"
   ]
  },
  {
   "cell_type": "code",
   "execution_count": 34,
   "metadata": {},
   "outputs": [
    {
     "name": "stdout",
     "output_type": "stream",
     "text": [
      "FAKE NEWS\n",
      "Mean:  165.5531120138208\n",
      "Median:  153.0\n",
      "Mode:  0    0\n",
      "dtype: int64\n",
      "Max:  2264\n",
      "\n",
      "TRUE NEWS\n",
      "Mean:  146.79348181351264\n",
      "Median:  134.0\n",
      "Mode:  0    24\n",
      "dtype: int64\n",
      "Max:  2523\n"
     ]
    },
    {
     "data": {
      "image/png": "[encoded data removed]",
      "text/plain": [
       "<Figure size 432x288 with 1 Axes>"
      ]
     },
     "metadata": {
      "needs_background": "light"
     },
     "output_type": "display_data"
    }
   ],
   "source": [
    "print(\"FAKE NEWS\")\n",
    "print(\"Mean: \",df_fake['Stopwords in news'].mean())\n",
    "print(\"Median: \",df_fake['Stopwords in news'].median())\n",
    "print(\"Mode: \",df_fake['Stopwords in news'].mode())\n",
    "print(\"Max: \",df_fake['Stopwords in news'].max())\n",
    "print(\"\")\n",
    "print(\"TRUE NEWS\")\n",
    "print(\"Mean: \",df_true['Stopwords in news'].mean())\n",
    "print(\"Median: \",df_true['Stopwords in news'].median())\n",
    "print(\"Mode: \",df_true['Stopwords in news'].mode())\n",
    "print(\"Max: \",df_true['Stopwords in news'].max())\n",
    "\n",
    "bins = 20\n",
    "#fig, ax = plt.subplots(1,2)\n",
    "plt.hist(df_fake['Stopwords in news'], bins, alpha = 0.5, color = 'r',label='Fake News')\n",
    "plt.hist(df_true['Stopwords in news'], bins, alpha = 0.5, color = 'g',label='True News')\n",
    "#fig.tight_layout(pad=1.0)\n",
    "plt.title('Stop words Comparison in News')\n",
    "plt.xlabel('Stopwords')\n",
    "plt.ylabel('Frequency')\n",
    "plt.legend()\n",
    "plt.show()"
   ]
  },
  {
   "cell_type": "code",
   "execution_count": null,
   "metadata": {},
   "outputs": [],
   "source": []
  },
  {
   "cell_type": "code",
   "execution_count": null,
   "metadata": {},
   "outputs": [],
   "source": []
  },
  {
   "cell_type": "markdown",
   "metadata": {},
   "source": []
  },
  {
   "cell_type": "code",
   "execution_count": null,
   "metadata": {},
   "outputs": [],
   "source": []
  }
 ],
 "metadata": {
  "kernelspec": {
   "display_name": "Python 3",
   "language": "python",
   "name": "python3"
  },
  "language_info": {
   "codemirror_mode": {
    "name": "ipython",
    "version": 3
   },
   "file_extension": ".py",
   "mimetype": "text/x-python",
   "name": "python",
   "nbconvert_exporter": "python",
   "pygments_lexer": "ipython3",
   "version": "3.7.6"
  }
 },
 "nbformat": 4,
 "nbformat_minor": 4
}
